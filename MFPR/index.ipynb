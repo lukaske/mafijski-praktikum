{
 "cells": [
  {
   "cell_type": "markdown",
   "metadata": {},
   "source": [
    "# Mafijski praktikum\n",
    "*Luka Skeledžija, oktober 2023 - *\n",
    "<style>\n",
    ".MJXc-display{display: inline !important;}\n",
    "@media print {\n",
    "    .pagebreak { page-break-before: always; } /* page-break-after works, as well */\n",
    "}\n",
    "\n",
    "img{\n",
    "    width: 100%;\n",
    "    max-width: 600px !important;\n",
    "    margin: auto !important;\n",
    "}\n",
    "\n",
    "body {\n",
    "    overflow: hidden;\n",
    "    max-width: 600px;\n",
    "    margin: auto;\n",
    "}\n",
    "\n",
    "::-webkit-scrollbar {\n",
    "  width: 0px;\n",
    "}\n",
    "\n",
    "table{\n",
    "    width: 100%;\n",
    "}\n",
    "\n",
    "blockquote {\n",
    "    margin: 0!important;\n",
    "}\n",
    "\n",
    "</style>\n"
   ]
  },
  {
   "cell_type": "markdown",
   "metadata": {},
   "source": [
    "Spletna stran vsebuje poročila vaj pri predmetu Matematično-fizikalni praktikum na [Fakulteti za matematiko in fiziko](https://www.fmf.uni-lj.si/sl/)."
   ]
  },
  {
   "cell_type": "markdown",
   "metadata": {},
   "source": [
    "#### Vaje\n",
    "\n",
    "1. [Airyjevi funkciji](./01_dif/01_dif.html)\n",
    "\n"
   ]
  },
  {
   "cell_type": "markdown",
   "metadata": {},
   "source": [
    "<br>"
   ]
  },
  {
   "cell_type": "markdown",
   "metadata": {},
   "source": [
    "> **Orodja**: Vse vaje so napisane v [Jupyter Notebooku](https://jupyter.org/) za programski jezik Python. Uporabljene knjižnice: `numpy`, `matplotlib`, `scipy` in `pandas`. V HTMl prevedeno s komando `jupyter nbconvert --to html --no-input index.ipynb`. Dodaten CSS se prekopira direktno v Markdown: [prenesi CSS](./styles.css)."
   ]
  }
 ],
 "metadata": {
  "language_info": {
   "name": "python"
  },
  "orig_nbformat": 4
 },
 "nbformat": 4,
 "nbformat_minor": 2
}
