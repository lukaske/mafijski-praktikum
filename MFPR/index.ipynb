{
 "cells": [
  {
   "cell_type": "markdown",
   "metadata": {},
   "source": [
    "# Matematično-fizikalni praktikum\n",
    "<p style=\"font-weight: 600; text-align: center;\">\n",
    "Fakulteta za matematiko in fiziko, 2023 <br>\n",
    "Luka Skeledžija\n",
    "</p>\n",
    "\n",
    "<style>\n",
    ".MJXc-display{\n",
    "    display: inline-block !important;\n",
    "    width: 100%;\n",
    "}\n",
    "@media print {\n",
    "    .pagebreak { page-break-before: always; } /* page-break-after works, as well */\n",
    "}\n",
    "\n",
    "img{\n",
    "    width: 100%;\n",
    "    max-width: 600px !important;\n",
    "    margin: auto !important;\n",
    "}\n",
    "\n",
    "body {\n",
    "    overflow: hidden;\n",
    "    max-width: 600px;\n",
    "    margin: auto;\n",
    "}\n",
    "\n",
    "::-webkit-scrollbar {\n",
    "  width: 0px;\n",
    "}\n",
    "\n",
    "table{\n",
    "    width: 100%;\n",
    "}\n",
    "\n",
    "h1 {\n",
    "    text-transform: uppercase;\n",
    "    text-align: center;\n",
    "    background: #222222;\n",
    "    color: white;\n",
    "    padding: 8px;\n",
    "}\n",
    "\n",
    "blockquote {\n",
    "    margin-left: 0em!important;\n",
    "    margin-right: 0em!important;\n",
    "\n",
    "}\n",
    "\n",
    ".jp-RenderedHTMLCommon pre, .jp-RenderedHTMLCommon code {\n",
    "\n",
    "    background-color: var(--jp-layout-color2)!important;\n",
    "}\n",
    "\n",
    ".jp-RenderedHTMLCommon pre{\n",
    "    margin: 0.5em 0em!important;\n",
    "    padding: 0em 1.5em!important;\n",
    "}\n",
    "\n",
    "body {\n",
    "    counter-reset: h2counter;\n",
    "}\n",
    "h1 {\n",
    "    counter-reset: h2counter;\n",
    "}\n",
    "h2:before {\n",
    "    content: counter(h2counter) \".\\0000a0\\0000a0\";\n",
    "    counter-increment: h2counter;\n",
    "    counter-reset: h3counter;\n",
    "}\n",
    "h3:before {\n",
    "    counter-increment: h3counter;\n",
    "    content: counter(h2counter) \".\" counter(h3counter) \".\\0000a0\\0000a0\";\n",
    "  \n",
    "}\n",
    "\n",
    "\n",
    "\n",
    "\n",
    "</style>\n",
    "\n",
    "\n",
    "---"
   ]
  },
  {
   "cell_type": "markdown",
   "metadata": {},
   "source": [
    "Spletna stran vsebuje poročila vaj pri predmetu Matematično-fizikalni praktikum na [Fakulteti za matematiko in fiziko](https://www.fmf.uni-lj.si/sl/)."
   ]
  },
  {
   "cell_type": "markdown",
   "metadata": {},
   "source": [
    "#### Vaje\n",
    "\n",
    "1. [Airyjevi funkciji](./01_airy/01_airy.html)\n",
    "2. [Naključni sprehodi](./02_randwalk/02_randwalk.html)\n",
    "3. unknown\n",
    "4. unknown\n",
    "5. unknown\n",
    "6. unknown\n",
    "7. unknown\n",
    "8. unknown\n",
    "9. unknown\n",
    "10. unknown\n",
    "11. unknown\n",
    "12. unknown\n",
    "\n"
   ]
  },
  {
   "cell_type": "markdown",
   "metadata": {},
   "source": [
    "<br>"
   ]
  },
  {
   "cell_type": "markdown",
   "metadata": {},
   "source": [
    "> **Orodja**: Vse vaje so napisane v [Jupyter Notebooku](https://jupyter.org/) za programski jezik Python. Uporabljene knjižnice: `numpy`, `matplotlib`, `scipy` in `pandas`. V HTMl prevedeno s komando `jupyter nbconvert --to html --no-input index.ipynb`. Dodaten CSS se prekopira direktno v Markdown: [prenesi CSS](./styles.css)."
   ]
  }
 ],
 "metadata": {
  "language_info": {
   "name": "python"
  },
  "orig_nbformat": 4
 },
 "nbformat": 4,
 "nbformat_minor": 2
}
