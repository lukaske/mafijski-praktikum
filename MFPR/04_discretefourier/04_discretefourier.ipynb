{
 "cells": [
  {
   "cell_type": "markdown",
   "metadata": {},
   "source": [
    "# 04 - Diskretna fourierova transofrmacija\n",
    "<p style=\"font-weight: 600; text-align: center;\">\n",
    "Matematično-fizikalni praktikum, november 2023 <br>\n",
    "Luka Skeledžija, 28201079\n",
    "</p>\n",
    "\n",
    "<style>\n",
    ".MJXc-display{\n",
    "    display: inline-block !important;\n",
    "    width: 100%;\n",
    "}\n",
    "@media print {\n",
    "    .pagebreak { page-break-before: always; } /* page-break-after works, as well */\n",
    "}\n",
    "\n",
    "img{\n",
    "    width: 100%;\n",
    "    max-width: 600px !important;\n",
    "    margin: auto !important;\n",
    "}\n",
    "\n",
    "body {\n",
    "    overflow: hidden;\n",
    "    max-width: 600px;\n",
    "    margin: auto;\n",
    "}\n",
    "\n",
    "::-webkit-scrollbar {\n",
    "  width: 0px;\n",
    "}\n",
    "\n",
    "table{\n",
    "    width: 100%;\n",
    "}\n",
    "\n",
    "h1 {\n",
    "    text-transform: uppercase;\n",
    "    text-align: center;\n",
    "    background: #222222;\n",
    "    color: white;\n",
    "    padding: 8px;\n",
    "}\n",
    "\n",
    "blockquote {\n",
    "    margin-left: 0em!important;\n",
    "    margin-right: 0em!important;\n",
    "\n",
    "}\n",
    "\n",
    ".jp-RenderedHTMLCommon pre, .jp-RenderedHTMLCommon code {\n",
    "\n",
    "    background-color: var(--jp-layout-color2)!important;\n",
    "}\n",
    "\n",
    ".jp-RenderedHTMLCommon pre{\n",
    "    margin: 0.5em 0em!important;\n",
    "    padding: 0em 1.5em!important;\n",
    "}\n",
    "\n",
    "body {\n",
    "    counter-reset: h2counter;\n",
    "}\n",
    "h1 {\n",
    "    counter-reset: h2counter;\n",
    "}\n",
    "h2:before {\n",
    "    content: counter(h2counter) \".\\0000a0\\0000a0\";\n",
    "    counter-increment: h2counter;\n",
    "    counter-reset: h3counter;\n",
    "}\n",
    "h3:before {\n",
    "    counter-increment: h3counter;\n",
    "    content: counter(h2counter) \".\" counter(h3counter) \".\\0000a0\\0000a0\";\n",
    "  \n",
    "}\n",
    "\n",
    "\n",
    "\n",
    "\n",
    "</style>\n",
    "\n",
    "\n",
    "---"
   ]
  },
  {
   "cell_type": "markdown",
   "metadata": {},
   "source": [
    "## Uvod\n",
    "\n",
    "..."
   ]
  },
  {
   "cell_type": "markdown",
   "metadata": {},
   "source": [
    "## Naloga\n"
   ]
  },
  {
   "cell_type": "markdown",
   "metadata": {},
   "source": [
    "## Zaključek\n",
    "\n",
    "\n",
    "---\n",
    "Luka Skeledžija, [Github source 🔗](https://github.com/lukaske/mafijski-praktikum/tree/main/MFPR/04_discretefourier), 2023"
   ]
  }
 ],
 "metadata": {
  "kernelspec": {
   "display_name": "phys",
   "language": "python",
   "name": "python3"
  },
  "language_info": {
   "codemirror_mode": {
    "name": "ipython",
    "version": 3
   },
   "file_extension": ".py",
   "mimetype": "text/x-python",
   "name": "python",
   "nbconvert_exporter": "python",
   "pygments_lexer": "ipython3",
   "version": "3.11.2"
  },
  "orig_nbformat": 4
 },
 "nbformat": 4,
 "nbformat_minor": 2
}
